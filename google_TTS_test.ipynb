{
 "cells": [
  {
   "cell_type": "code",
   "execution_count": 1,
   "metadata": {},
   "outputs": [],
   "source": [
    "import pandas as pd\n",
    "from gtts import gTTS\n",
    "import os\n",
    "\n",
    "# Load the CSV file\n",
    "df = pd.read_csv('your_file.csv')\n",
    "\n",
    "# Function to get French pronunciation\n",
    "# Function to get French pronunciation\n",
    "def get_french_pronunciation(word):\n",
    "   try:\n",
    "       tts = gTTS(word, lang='fr')\n",
    "\n",
    "       tts.save('pronunciation.mp3')\n",
    "       os.system('mv pronunciation.mp3 pronunciations/')\n",
    "       return 'pronunciations/pronunciation.mp3'\n",
    "   except Exception as e:\n",
    "       return str(e)\n",
    "\n",
    "# Apply the function to create the pronunciation column\n",
    "df['French Pronunciation'] = df['French Word'].apply(get_french_pronunciation)\n",
    "\n",
    "# Save the updated CSV file\n",
    "df.to_csv('updated_file.csv', index=False)\n",
    "\n",
    "print(\"French pronunciation column added to the CSV file.\")\n"
   ]
  },
  {
   "cell_type": "code",
   "execution_count": 8,
   "metadata": {},
   "outputs": [],
   "source": [
    "gTTS(\"je ne regrette rien\", lang=\"fr\").save(\"C:/Users/andre/AppData/Roaming/Anki2/User 1/collection.media/test2.mp3\")"
   ]
  }
 ],
 "metadata": {
  "kernelspec": {
   "display_name": "Python 3",
   "language": "python",
   "name": "python3"
  },
  "language_info": {
   "codemirror_mode": {
    "name": "ipython",
    "version": 3
   },
   "file_extension": ".py",
   "mimetype": "text/x-python",
   "name": "python",
   "nbconvert_exporter": "python",
   "pygments_lexer": "ipython3",
   "version": "3.11.6"
  }
 },
 "nbformat": 4,
 "nbformat_minor": 2
}
