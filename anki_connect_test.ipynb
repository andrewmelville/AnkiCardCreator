{
 "cells": [
  {
   "cell_type": "code",
   "execution_count": 10,
   "metadata": {},
   "outputs": [],
   "source": [
    "import requests\n",
    "import json\n",
    "\n",
    "def invoke(action, **params):\n",
    "\n",
    "    request_json = json.dumps(\n",
    "        {\n",
    "            'action': action,\n",
    "            'params': params,\n",
    "            'version': 6\n",
    "        }\n",
    "    )\n",
    "\n",
    "    response = requests.post(\n",
    "        'http://localhost:8765',\n",
    "         data=request_json\n",
    "        )\n",
    "    \n",
    "    # print(response.content)\n",
    "\n",
    "    return json.loads(response.content)\n",
    "\n",
    "# Add a new card to an existing deck\n",
    "def add_card_to_deck(deck_name, front, back):\n",
    "    invoke(\n",
    "        'addNote',\n",
    "        note={\n",
    "            'deckName': deck_name,\n",
    "            'modelName': 'Basic',\n",
    "            'fields': {\n",
    "                'Front': front,\n",
    "                'Back': back\n",
    "            }\n",
    "        }\n",
    "    )\n",
    "\n",
    "# Find and delete a card by its front field\n",
    "def delete_card_by_front(deck_name, front):\n",
    "    note_ids = invoke('findNotes', query=f'deck:\"{deck_name}\" Front:\"{front}\"')\n",
    "    if note_ids:\n",
    "        invoke('deleteNotes', notes=note_ids)\n",
    "\n",
    "# Example usage\n",
    "# add_card_to_deck('French Vocabulary', 'Pomme', 'Apple')\n",
    "# delete_card_by_front('French Vocabulary', 'Pomme')"
   ]
  },
  {
   "cell_type": "code",
   "execution_count": 5,
   "metadata": {},
   "outputs": [
    {
     "name": "stdout",
     "output_type": "stream",
     "text": [
      "b'{\"result\": 1696713010295, \"error\": null}'\n"
     ]
    }
   ],
   "source": [
    "add_card_to_deck('Country Capitals', 'Pomme', 'Apple')"
   ]
  },
  {
   "cell_type": "code",
   "execution_count": 38,
   "metadata": {},
   "outputs": [],
   "source": [
    "def get_card_by_front(deck_name, front):\n",
    "    # Find the note IDs that match the query\n",
    "    response = invoke('findNotes', query=f'deck:\"{deck_name}\" Front:\"{front}\"')\n",
    "    note_ids = response.get('result')\n",
    "    print(note_ids)\n",
    "\n",
    "    if not note_ids:\n",
    "        return None\n",
    "\n",
    "    # Fetch detailed information about these notes\n",
    "    notes_info = invoke('notesInfo', notes=note_ids)\n",
    "    return notes_info"
   ]
  },
  {
   "cell_type": "code",
   "execution_count": 39,
   "metadata": {},
   "outputs": [
    {
     "name": "stdout",
     "output_type": "stream",
     "text": [
      "[1696713010295]\n"
     ]
    },
    {
     "data": {
      "text/plain": [
       "{'result': [{'noteId': 1696713010295,\n",
       "   'tags': [],\n",
       "   'fields': {'Front': {'value': 'Pomme', 'order': 0},\n",
       "    'Back': {'value': 'Apple', 'order': 1}},\n",
       "   'modelName': 'Basic',\n",
       "   'cards': [1696713010295]}],\n",
       " 'error': None}"
      ]
     },
     "execution_count": 39,
     "metadata": {},
     "output_type": "execute_result"
    }
   ],
   "source": [
    "get_card_by_front('Country Capitals', 'Pomme')"
   ]
  },
  {
   "cell_type": "code",
   "execution_count": 43,
   "metadata": {},
   "outputs": [
    {
     "name": "stdout",
     "output_type": "stream",
     "text": [
      "[{'noteId': 1673812614370, 'tags': [], 'fields': {'Front': {'value': '', 'order': 0}, 'Back': {'value': '', 'order': 1}}, 'modelName': 'Basic', 'cards': [1673812614372]}, {'noteId': 1673990606557, 'tags': [], 'fields': {'Front': {'value': 'What sound does this spelling make?<br><br><b>r</b><br><br>as in&nbsp;<i><b>r</b>egarder</i>', 'order': 0}, 'Back': {'value': '[sound:Fr-regarder.ogg]', 'order': 1}}, 'modelName': 'Basic', 'cards': [1673990606558]}, {'noteId': 1673990941544, 'tags': [], 'fields': {'Front': {'value': 'What sound does this spelling make?<br><br><b>b</b><br><br>as in <i><b>b</b>on</i>', 'order': 0}, 'Back': {'value': '[sound:Fr-bon.ogg]', 'order': 1}}, 'modelName': 'Basic', 'cards': [1673990941544]}, {'noteId': 1673990988540, 'tags': [], 'fields': {'Front': {'value': 'What sound does this spelling make?<br><br><b>d</b><br><br>as in <i><b>d</b>eux</i>', 'order': 0}, 'Back': {'value': '[sound:Fr-deux-fr.ogg]', 'order': 1}}, 'modelName': 'Basic', 'cards': [1673990988540]}, {'noteId': 1673991027244, 'tags': [], 'fields': {'Front': {'value': 'What sound does this spelling make?<br><br><b>f</b><br><br>as in <b><i>faire</i></b>', 'order': 0}, 'Back': {'value': '[sound:Fr-faire.ogg]', 'order': 1}}, 'modelName': 'Basic', 'cards': [1673991027244]}, {'noteId': 1673991098932, 'tags': [], 'fields': {'Front': {'value': 'What sound does this spelling make?<br><br><b>g</b><br><br>as in&nbsp;<i><b>g</b>arçon</i>', 'order': 0}, 'Back': {'value': '[sound:Nl-garçon.ogg]', 'order': 1}}, 'modelName': 'Basic', 'cards': [1673991098932]}, {'noteId': 1673991445978, 'tags': [], 'fields': {'Front': {'value': 'What sound does this spelling make?<br><br><b>gn</b><br><br>as in<b>&nbsp;</b>ga<i>gn</i>er', 'order': 0}, 'Back': {'value': '[sound:Fr-gagner.ogg]', 'order': 1}}, 'modelName': 'Basic', 'cards': [1673991445978]}, {'noteId': 1673991605928, 'tags': [], 'fields': {'Front': {'value': 'What sound does this spelling make?<br><br><b>ch</b><br><br>as in&nbsp;<i>ch</i>ampagne', 'order': 0}, 'Back': {'value': '[sound:Fr-champagne.oga]', 'order': 1}}, 'modelName': 'Basic', 'cards': [1673991605928]}, {'noteId': 1673991683424, 'tags': [], 'fields': {'Front': {'value': 'What sound does this spelling make?<br><br><b>e<br></b><br>as in f<i>e</i>mme', 'order': 0}, 'Back': {'value': '[sound:Fr-femme.ogg]', 'order': 1}}, 'modelName': 'Basic', 'cards': [1673991683424]}, {'noteId': 1673991753148, 'tags': [], 'fields': {'Front': {'value': 'What sound does this spelling make?<br><br><b>a</b><br><br>as in p<i>a</i>tte', 'order': 0}, 'Back': {'value': '[sound:Fr-patte.ogg]', 'order': 1}}, 'modelName': 'Basic', 'cards': [1673991753149]}, {'noteId': 1673991865731, 'tags': [], 'fields': {'Front': {'value': 'What sound does this spelling make?<br><br><b>â<br></b><br><span style=\"color: rgb(255, 255, 255);\">as&nbsp;in&nbsp;</span>p<i>â</i>te', 'order': 0}, 'Back': {'value': '[sound:Fr-pâté.ogg]<br><br>A mix between an \"uh\" or an \"ah', 'order': 1}}, 'modelName': 'Basic', 'cards': [1673991865731]}, {'noteId': 1673992158220, 'tags': [], 'fields': {'Front': {'value': '<span style=\"color: rgb(255, 255, 255);\">What&nbsp;sound&nbsp;does&nbsp;this&nbsp;spelling&nbsp;make?<br><br><b>u<br></b><br>as&nbsp;in&nbsp;</span>t<i>u</i>, s<i>û</i>r, r<i>u</i>e', 'order': 0}, 'Back': {'value': '[sound:Fr-sûr.ogg],&nbsp;[sound:Fr-tu.ogg]', 'order': 1}}, 'modelName': 'Basic', 'cards': [1673992158220]}, {'noteId': 1681137307655, 'tags': [], 'fields': {'Front': {'value': 'La Valise', 'order': 0}, 'Back': {'value': '<div><i>(la va-LEEZ)</i> - the suitcase<br></div>', 'order': 1}}, 'modelName': 'Basic', 'cards': [1681137307658]}, {'noteId': 1681137333055, 'tags': [], 'fields': {'Front': {'value': 'embarquer', 'order': 0}, 'Back': {'value': '(<i>ahm-bar-KAY</i>) - to embark, board (a plane, ship, etc.)', 'order': 1}}, 'modelName': 'Basic', 'cards': [1681137333055]}, {'noteId': 1681137348915, 'tags': [], 'fields': {'Front': {'value': 'débarquer', 'order': 0}, 'Back': {'value': '&nbsp;(<i>day-bar-KAY</i>) - to disembark, get off (a plane, ship, etc.)', 'order': 1}}, 'modelName': 'Basic', 'cards': [1681137348915]}, {'noteId': 1681137365207, 'tags': [], 'fields': {'Front': {'value': 'le taxi', 'order': 0}, 'Back': {'value': '(<i>luh tak-SEE</i>) - the taxi', 'order': 1}}, 'modelName': 'Basic', 'cards': [1681137365207]}, {'noteId': 1681137379311, 'tags': [], 'fields': {'Front': {'value': 'la correspondance', 'order': 0}, 'Back': {'value': '&nbsp;(<i>la koh-reh-spo(n)-DAHNS</i>) - the connection, transfer (between trains, flights, etc.)', 'order': 1}}, 'modelName': 'Basic', 'cards': [1681137379311]}, {'noteId': 1681137399618, 'tags': [], 'fields': {'Front': {'value': 'la douane', 'order': 0}, 'Back': {'value': '(<i>la doo-AHN</i>) - customs (at an airport or border)', 'order': 1}}, 'modelName': 'Basic', 'cards': [1681137399618]}, {'noteId': 1681137430392, 'tags': [], 'fields': {'Front': {'value': 'bondé(e)', 'order': 0}, 'Back': {'value': '(<i>bo(n)-DAY</i>) - crowded, packed (adjective)', 'order': 1}}, 'modelName': 'Basic', 'cards': [1681137430392]}, {'noteId': 1681137445614, 'tags': [], 'fields': {'Front': {'value': \"l'horaire\", 'order': 0}, 'Back': {'value': '(<i>leuh-oh-REHR</i>) - the schedule, timetable', 'order': 1}}, 'modelName': 'Basic', 'cards': [1681137445614]}, {'noteId': 1681137464722, 'tags': [], 'fields': {'Front': {'value': 'la location', 'order': 0}, 'Back': {'value': '(<i>la loh-kay-SYOH(N)</i>) - the rental (of a car, bike, etc.)', 'order': 1}}, 'modelName': 'Basic', 'cards': [1681137464722]}, {'noteId': 1681137493298, 'tags': [], 'fields': {'Front': {'value': 'rater', 'order': 0}, 'Back': {'value': '(<i>rah-TAY</i>) - to miss (a train, bus, etc.)', 'order': 1}}, 'modelName': 'Basic', 'cards': [1681137493298]}, {'noteId': 1681215812578, 'tags': [], 'fields': {'Front': {'value': 'le travail', 'order': 0}, 'Back': {'value': '&nbsp;(luh tra-VIE) - the work, job', 'order': 1}}, 'modelName': 'Basic', 'cards': [1681215812819]}, {'noteId': 1681215822167, 'tags': [], 'fields': {'Front': {'value': \"l'emploi&nbsp;\", 'order': 0}, 'Back': {'value': '(lah(n)-plwa) - the job, employment', 'order': 1}}, 'modelName': 'Basic', 'cards': [1681215822168]}, {'noteId': 1681215832296, 'tags': [], 'fields': {'Front': {'value': 'le bureau&nbsp;', 'order': 0}, 'Back': {'value': '(luh byoor-OH) - the office', 'order': 1}}, 'modelName': 'Basic', 'cards': [1681215832296]}, {'noteId': 1681215842181, 'tags': [], 'fields': {'Front': {'value': 'le patron / la patronne', 'order': 0}, 'Back': {'value': '&nbsp;(luh pa-TROH(N) / la pa-TROHN) - the boss', 'order': 1}}, 'modelName': 'Basic', 'cards': [1681215842181]}, {'noteId': 1681215851201, 'tags': [], 'fields': {'Front': {'value': 'le collègue&nbsp;', 'order': 0}, 'Back': {'value': '(luh koh-leg) - the colleague, coworker', 'order': 1}}, 'modelName': 'Basic', 'cards': [1681215851201]}, {'noteId': 1681215873541, 'tags': [], 'fields': {'Front': {'value': \"l'entretien d'embauche\", 'order': 0}, 'Back': {'value': '&nbsp;(lah(n)-tre-tya(n) dah(n)-BOHSH) - the job interview', 'order': 1}}, 'modelName': 'Basic', 'cards': [1681215873541]}, {'noteId': 1681215884258, 'tags': [], 'fields': {'Front': {'value': 'le salaire', 'order': 0}, 'Back': {'value': '&nbsp;(luh sa-LAHR) - the salary, wage', 'order': 1}}, 'modelName': 'Basic', 'cards': [1681215884258]}, {'noteId': 1681215893140, 'tags': [], 'fields': {'Front': {'value': 'la réunion', 'order': 0}, 'Back': {'value': '&nbsp;(la reh-yoo-NYOH(N)) - the meeting', 'order': 1}}, 'modelName': 'Basic', 'cards': [1681215893140]}, {'noteId': 1681215903491, 'tags': [], 'fields': {'Front': {'value': \"l'ingénieur&nbsp;\", 'order': 0}, 'Back': {'value': '(lah(n)-zheh-NYUR) - the engineer', 'order': 1}}, 'modelName': 'Basic', 'cards': [1681215903491]}, {'noteId': 1681215913827, 'tags': [], 'fields': {'Front': {'value': 'le médecin&nbsp;', 'order': 0}, 'Back': {'value': '(luh meh-DEH(sa~)- the doctor', 'order': 1}}, 'modelName': 'Basic', 'cards': [1681215913827]}, {'noteId': 1681297818037, 'tags': [], 'fields': {'Front': {'value': 'les vêtements', 'order': 0}, 'Back': {'value': '(lay vet-MAH(N)) - the clothes', 'order': 1}}, 'modelName': 'Basic', 'cards': [1681297818038]}, {'noteId': 1681297826266, 'tags': [], 'fields': {'Front': {'value': 'la boutique', 'order': 0}, 'Back': {'value': '&nbsp;(la boo-TEAK) - the boutique, shop', 'order': 1}}, 'modelName': 'Basic', 'cards': [1681297826266]}, {'noteId': 1681297834780, 'tags': [], 'fields': {'Front': {'value': 'le magasin&nbsp;', 'order': 0}, 'Back': {'value': '(luh ma-ga-ZA(N)) - the store', 'order': 1}}, 'modelName': 'Basic', 'cards': [1681297834780]}, {'noteId': 1681297842238, 'tags': [], 'fields': {'Front': {'value': 'la chaussure&nbsp;', 'order': 0}, 'Back': {'value': '(la sho-SYUR) - the shoe', 'order': 1}}, 'modelName': 'Basic', 'cards': [1681297842238]}, {'noteId': 1681297851461, 'tags': [], 'fields': {'Front': {'value': 'le pantalon&nbsp;', 'order': 0}, 'Back': {'value': '(luh pa(n)-ta-LO(N)) - the pants, trousers', 'order': 1}}, 'modelName': 'Basic', 'cards': [1681297851461]}, {'noteId': 1681297859503, 'tags': [], 'fields': {'Front': {'value': 'la chemise&nbsp;', 'order': 0}, 'Back': {'value': '(la shuh-MEEZ) - the shirt', 'order': 1}}, 'modelName': 'Basic', 'cards': [1681297859503]}, {'noteId': 1681297866433, 'tags': [], 'fields': {'Front': {'value': 'la robe', 'order': 0}, 'Back': {'value': '&nbsp;(la rob) - the dress', 'order': 1}}, 'modelName': 'Basic', 'cards': [1681297866433]}, {'noteId': 1681297879732, 'tags': [], 'fields': {'Front': {'value': 'les soldes&nbsp;', 'order': 0}, 'Back': {'value': '(lay solde) - the sales, discounts', 'order': 1}}, 'modelName': 'Basic', 'cards': [1681297879732]}, {'noteId': 1681297885114, 'tags': [], 'fields': {'Front': {'value': 'la taille&nbsp;', 'order': 0}, 'Back': {'value': '(la tie) - the size (clothing)', 'order': 1}}, 'modelName': 'Basic', 'cards': [1681297885114]}, {'noteId': 1681297892184, 'tags': [], 'fields': {'Front': {'value': \"la cabine d'essayage&nbsp;\", 'order': 0}, 'Back': {'value': '(la ka-been des-sa-YAZH) - the fitting room', 'order': 1}}, 'modelName': 'Basic', 'cards': [1681297892184]}, {'noteId': 1681297959908, 'tags': [], 'fields': {'Front': {'value': 'la mannequin', 'order': 0}, 'Back': {'value': '&nbsp;(la man-uh-KAN) - the mannequin, model', 'order': 1}}, 'modelName': 'Basic', 'cards': [1681297959908]}, {'noteId': 1681297968228, 'tags': [], 'fields': {'Front': {'value': 'la vitrine', 'order': 0}, 'Back': {'value': '&nbsp;(la vee-TREEN) - the shop window, display window', 'order': 1}}, 'modelName': 'Basic', 'cards': [1681297968228]}, {'noteId': 1681297975789, 'tags': [], 'fields': {'Front': {'value': 'le prêt-à-porter&nbsp;', 'order': 0}, 'Back': {'value': '(luh pret-a-por-TAY) - ready-to-wear clothing', 'order': 1}}, 'modelName': 'Basic', 'cards': [1681297975789]}, {'noteId': 1681297986595, 'tags': [], 'fields': {'Front': {'value': 'la couture&nbsp;', 'order': 0}, 'Back': {'value': '(la koo-TYUR) - haute couture, high fashion, dressmaking', 'order': 1}}, 'modelName': 'Basic', 'cards': [1681297986595]}, {'noteId': 1681297997916, 'tags': [], 'fields': {'Front': {'value': \"l'accessoire&nbsp;\", 'order': 0}, 'Back': {'value': '(lak-ses-WAHR) - the accessory', 'order': 1}}, 'modelName': 'Basic', 'cards': [1681297997916]}, {'noteId': 1681493505556, 'tags': [], 'fields': {'Front': {'value': 'la santé', 'order': 0}, 'Back': {'value': '&nbsp;(la sahn-TAY) - health', 'order': 1}}, 'modelName': 'Basic', 'cards': [1681493505557]}, {'noteId': 1681493514146, 'tags': [], 'fields': {'Front': {'value': \"s'exercer&nbsp;\", 'order': 0}, 'Back': {'value': '(suhg-zehr-SAY) - to exercise', 'order': 1}}, 'modelName': 'Basic', 'cards': [1681493514146]}, {'noteId': 1681493522479, 'tags': [], 'fields': {'Front': {'value': 'la nutrition', 'order': 0}, 'Back': {'value': '&nbsp;(la new-tree-SYAW(N)) - nutrition', 'order': 1}}, 'modelName': 'Basic', 'cards': [1681493522479]}, {'noteId': 1681493530438, 'tags': [], 'fields': {'Front': {'value': 'se détendre&nbsp;', 'order': 0}, 'Back': {'value': '(suh day-TAH(N)D) - to relax', 'order': 1}}, 'modelName': 'Basic', 'cards': [1681493530438]}, {'noteId': 1681493537389, 'tags': [], 'fields': {'Front': {'value': 'le régime&nbsp;', 'order': 0}, 'Back': {'value': '(luh ray-ZHEEM) - diet', 'order': 1}}, 'modelName': 'Basic', 'cards': [1681493537389]}, {'noteId': 1681493547223, 'tags': [], 'fields': {'Front': {'value': 'manger équilibré&nbsp;', 'order': 0}, 'Back': {'value': '(mahn-ZHAY ay-kee-lee-BRAY) - to eat a balanced diet', 'order': 1}}, 'modelName': 'Basic', 'cards': [1681493547223]}, {'noteId': 1681493554730, 'tags': [], 'fields': {'Front': {'value': 'le sommeil', 'order': 0}, 'Back': {'value': '&nbsp;(luh soh-MAY) - sleep', 'order': 1}}, 'modelName': 'Basic', 'cards': [1681493554730]}, {'noteId': 1681493564855, 'tags': [], 'fields': {'Front': {'value': 'dormir', 'order': 0}, 'Back': {'value': '&nbsp;(door-MEER) - to sleep', 'order': 1}}, 'modelName': 'Basic', 'cards': [1681493564855]}, {'noteId': 1681493576682, 'tags': [], 'fields': {'Front': {'value': 'le bien-être&nbsp;', 'order': 0}, 'Back': {'value': '(luh bya(n)-ETR) - well-being', 'order': 1}}, 'modelName': 'Basic', 'cards': [1681493576682]}, {'noteId': 1681493584286, 'tags': [], 'fields': {'Front': {'value': 'se reposer&nbsp;', 'order': 0}, 'Back': {'value': '(suh ruh-poh-ZAY) - to rest', 'order': 1}}, 'modelName': 'Basic', 'cards': [1681493584286]}, {'noteId': 1681575881521, 'tags': [], 'fields': {'Front': {'value': 'Imperatif conjugation de \"être\"', 'order': 0}, 'Back': {'value': '(Tu) sois<br>(Nous) Soyons<br>(Vous) Soyez', 'order': 1}}, 'modelName': 'Basic', 'cards': [1681575881521]}, {'noteId': 1681575911840, 'tags': [], 'fields': {'Front': {'value': 'Imperatif conjugation de \"avoir\"', 'order': 0}, 'Back': {'value': '(Tu) aie<br>(Nous) Ayons<br>(Vous) Ayez', 'order': 1}}, 'modelName': 'Basic', 'cards': [1681575911840]}, {'noteId': 1681575942353, 'tags': [], 'fields': {'Front': {'value': 'Imperatif conjugation de \"aller\"', 'order': 0}, 'Back': {'value': '(Tu) va<br>(Nous) allons<br>(Vous) allez', 'order': 1}}, 'modelName': 'Basic', 'cards': [1681575942353]}, {'noteId': 1681575975851, 'tags': [], 'fields': {'Front': {'value': 'Imperatif conjugation de \"savoir\"', 'order': 0}, 'Back': {'value': '(Tu) sache<br>(Nous) Sachons<br>(Vous) Sachez', 'order': 1}}, 'modelName': 'Basic', 'cards': [1681575975851]}, {'noteId': 1681576008029, 'tags': [], 'fields': {'Front': {'value': 'Imperatif conjugation de \"vouloir\"', 'order': 0}, 'Back': {'value': '(Tu) Veuille<br>(Nous) Veuillons<br>(Vous) Veuillez', 'order': 1}}, 'modelName': 'Basic', 'cards': [1681576008029]}, {'noteId': 1681577008833, 'tags': [], 'fields': {'Front': {'value': 'Faire du vélo', 'order': 0}, 'Back': {'value': '&nbsp;(fayr doo vay-lo) - to ride a bike', 'order': 1}}, 'modelName': 'Basic', 'cards': [1681577008834]}, {'noteId': 1681577020323, 'tags': [], 'fields': {'Front': {'value': 'Se promener', 'order': 0}, 'Back': {'value': '&nbsp;(suh proh-men-ay) - to take a walk', 'order': 1}}, 'modelName': 'Basic', 'cards': [1681577020323]}, {'noteId': 1681577028829, 'tags': [], 'fields': {'Front': {'value': 'Passer du temps&nbsp;', 'order': 0}, 'Back': {'value': '(pah-say doo tah) - to spend time', 'order': 1}}, 'modelName': 'Basic', 'cards': [1681577028829]}, {'noteId': 1681577040262, 'tags': [], 'fields': {'Front': {'value': 'Échecs', 'order': 0}, 'Back': {'value': '&nbsp;(ay-shex) - chess', 'order': 1}}, 'modelName': 'Basic', 'cards': [1681577040262]}, {'noteId': 1681577063868, 'tags': [], 'fields': {'Front': {'value': 'Peindre', 'order': 0}, 'Back': {'value': '&nbsp;(pahn-dr) - to paint', 'order': 1}}, 'modelName': 'Basic', 'cards': [1681577063869]}, {'noteId': 1681577069919, 'tags': [], 'fields': {'Front': {'value': 'Théâtre&nbsp;', 'order': 0}, 'Back': {'value': '(tay-aht-r) - theater', 'order': 1}}, 'modelName': 'Basic', 'cards': [1681577069919]}, {'noteId': 1681577077530, 'tags': [], 'fields': {'Front': {'value': 'Concert', 'order': 0}, 'Back': {'value': '&nbsp;(coh-sair) - concert', 'order': 1}}, 'modelName': 'Basic', 'cards': [1681577077530]}, {'noteId': 1681577084127, 'tags': [], 'fields': {'Front': {'value': 'En plein air', 'order': 0}, 'Back': {'value': '&nbsp;(ahn pla-nayr) - outdoors, open-air', 'order': 1}}, 'modelName': 'Basic', 'cards': [1681577084128]}, {'noteId': 1681577096996, 'tags': [], 'fields': {'Front': {'value': 'Passionnant&nbsp;', 'order': 0}, 'Back': {'value': '(pah-see-ohn-ahnt) - exciting, thrilling', 'order': 1}}, 'modelName': 'Basic', 'cards': [1681577096996]}, {'noteId': 1681577105428, 'tags': [], 'fields': {'Front': {'value': 'Détente', 'order': 0}, 'Back': {'value': '&nbsp;(day-tahnt) - relaxation', 'order': 1}}, 'modelName': 'Basic', 'cards': [1681577105428]}, {'noteId': 1681754297787, 'tags': [], 'fields': {'Front': {'value': '<div>Commander</div>', 'order': 0}, 'Back': {'value': '&nbsp;(verb) - To order <br>Pronunciation: [koh-mahn-day]', 'order': 1}}, 'modelName': 'Basic', 'cards': [1681754297788]}, {'noteId': 1681754315374, 'tags': [], 'fields': {'Front': {'value': \"<div>L'addition&nbsp;</div>\", 'order': 0}, 'Back': {'value': '(feminine noun) - The bill <br>Pronunciation: [la-dee-syon]', 'order': 1}}, 'modelName': 'Basic', 'cards': [1681754315375]}, {'noteId': 1681754330188, 'tags': [], 'fields': {'Front': {'value': '<div>La serveuse / Le serveur&nbsp;</div>', 'order': 0}, 'Back': {'value': '(feminine/masculine noun) - Waitress / Waiter <br>Pronunciation: [la ser-veuz] / [le ser-veur]', 'order': 1}}, 'modelName': 'Basic', 'cards': [1681754330188]}, {'noteId': 1681754347050, 'tags': [], 'fields': {'Front': {'value': '<div>La carte</div>', 'order': 0}, 'Back': {'value': '&nbsp;(feminine noun) - The menu Pronunciation: [la kart]', 'order': 1}}, 'modelName': 'Basic', 'cards': [1681754347051]}, {'noteId': 1681754360902, 'tags': [], 'fields': {'Front': {'value': '<div>Épicé</div>', 'order': 0}, 'Back': {'value': '&nbsp;(adjective) - Spicy Pronunciation: [ay-pee-say]', 'order': 1}}, 'modelName': 'Basic', 'cards': [1681754360902]}, {'noteId': 1681754372534, 'tags': [], 'fields': {'Front': {'value': '<div>Les couverts&nbsp;</div>', 'order': 0}, 'Back': {'value': '(masculine plural noun) - Cutlery <br>Pronunciation: [lay koo-vehr]', 'order': 1}}, 'modelName': 'Basic', 'cards': [1681754372534]}, {'noteId': 1681754384145, 'tags': [], 'fields': {'Front': {'value': '<div>Réservation&nbsp;</div>', 'order': 0}, 'Back': {'value': '(feminine noun) - Reservation <br>Pronunciation: [ray-zehr-va-syon]', 'order': 1}}, 'modelName': 'Basic', 'cards': [1681754384145]}, {'noteId': 1681754392343, 'tags': [], 'fields': {'Front': {'value': '<div>La terrasse</div>', 'order': 0}, 'Back': {'value': '&nbsp;(feminine noun) - Terrace Pronunciation: [la te-ras]', 'order': 1}}, 'modelName': 'Basic', 'cards': [1681754392343]}, {'noteId': 1681754404000, 'tags': [], 'fields': {'Front': {'value': '<div>Savoureux / Savoureuse</div>', 'order': 0}, 'Back': {'value': '&nbsp;(adjective) - Tasty <br>Pronunciation: [sa-voo-reuh] / [sa-voo-reuz]', 'order': 1}}, 'modelName': 'Basic', 'cards': [1681754404001]}, {'noteId': 1681754416897, 'tags': [], 'fields': {'Front': {'value': '<div>Débarrasser&nbsp;</div>', 'order': 0}, 'Back': {'value': '(verb) - To clear (the table) <br>Pronunciation: [day-ba-ra-sey]', 'order': 1}}, 'modelName': 'Basic', 'cards': [1681754416897]}, {'noteId': 1681754431116, 'tags': [], 'fields': {'Front': {'value': '<div>La pourboire</div>', 'order': 0}, 'Back': {'value': '&nbsp;(masculine noun) - Tip <br>Pronunciation: [la poor-bwar]', 'order': 1}}, 'modelName': 'Basic', 'cards': [1681754431116]}, {'noteId': 1681754441800, 'tags': [], 'fields': {'Front': {'value': '<div>Le plat du jour</div>', 'order': 0}, 'Back': {'value': '&nbsp;(masculine noun) - Daily special<br>&nbsp;Pronunciation: [le pla dyu zhoor]', 'order': 1}}, 'modelName': 'Basic', 'cards': [1681754441800]}, {'noteId': 1681754453383, 'tags': [], 'fields': {'Front': {'value': '<div>À emporter&nbsp;</div>', 'order': 0}, 'Back': {'value': '(phrase) - Takeaway <br>Pronunciation: [a ahm-por-tey]', 'order': 1}}, 'modelName': 'Basic', 'cards': [1681754453383]}, {'noteId': 1681754464111, 'tags': [], 'fields': {'Front': {'value': '<div>Réchauffer</div>', 'order': 0}, 'Back': {'value': '&nbsp;(verb) - To reheat<br>&nbsp;Pronunciation: [ray-sho-fay]', 'order': 1}}, 'modelName': 'Basic', 'cards': [1681754464111]}, {'noteId': 1681754478628, 'tags': [], 'fields': {'Front': {'value': '<div>La boisson</div>', 'order': 0}, 'Back': {'value': '(feminine noun) - Drink<br>&nbsp;Pronunciation: [la bwah-sohn]', 'order': 1}}, 'modelName': 'Basic', 'cards': [1681754478628]}, {'noteId': 1682243776553, 'tags': [], 'fields': {'Front': {'value': 'escale', 'order': 0}, 'Back': {'value': '&nbsp;(eh-skal) - stopover (noun)', 'order': 1}}, 'modelName': 'Basic', 'cards': [1682243776553]}, {'noteId': 1682243786290, 'tags': [], 'fields': {'Front': {'value': 'surclasser&nbsp;', 'order': 0}, 'Back': {'value': '(suur-klass-ay) - to upgrade (verb)', 'order': 1}}, 'modelName': 'Basic', 'cards': [1682243786290]}, {'noteId': 1682243793741, 'tags': [], 'fields': {'Front': {'value': 'itinéraire&nbsp;', 'order': 0}, 'Back': {'value': '(ee-tee-nay-rer) - itinerary, route (noun)', 'order': 1}}, 'modelName': 'Basic', 'cards': [1682243793741]}, {'noteId': 1682243803630, 'tags': [], 'fields': {'Front': {'value': 'chambre communicante&nbsp;', 'order': 0}, 'Back': {'value': '(shahm-br koh-mew-nee-kahnt) - adjoining room (noun)', 'order': 1}}, 'modelName': 'Basic', 'cards': [1682243803630]}, {'noteId': 1682243815693, 'tags': [], 'fields': {'Front': {'value': 'dépaysement', 'order': 0}, 'Back': {'value': '(day-pay-zay-mahn) - change of scenery, culture shock (noun)', 'order': 1}}, 'modelName': 'Basic', 'cards': [1682243815693]}, {'noteId': 1682243822630, 'tags': [], 'fields': {'Front': {'value': 'paisible&nbsp;', 'order': 0}, 'Back': {'value': '(pay-seebl) - peaceful, tranquil (adjective)', 'order': 1}}, 'modelName': 'Basic', 'cards': [1682243822630]}, {'noteId': 1682243830367, 'tags': [], 'fields': {'Front': {'value': 'dévaliser&nbsp;', 'order': 0}, 'Back': {'value': '(day-va-lee-zay) - to rob, ransack (verb)', 'order': 1}}, 'modelName': 'Basic', 'cards': [1682243830367]}, {'noteId': 1682243845613, 'tags': [], 'fields': {'Front': {'value': 'égarer', 'order': 0}, 'Back': {'value': '&nbsp;(ay-ga-ray) - to lose, misplace (verb)', 'order': 1}}, 'modelName': 'Basic', 'cards': [1682243845613]}, {'noteId': 1682243855491, 'tags': [], 'fields': {'Front': {'value': 'hébergement', 'order': 0}, 'Back': {'value': '&nbsp;(ay-berj-mahn) - lodging, accommodation (noun)', 'order': 1}}, 'modelName': 'Basic', 'cards': [1682243855491]}, {'noteId': 1682243862284, 'tags': [], 'fields': {'Front': {'value': 'pittoresque&nbsp;', 'order': 0}, 'Back': {'value': '(pee-toh-resk) - picturesque, scenic (adjective)', 'order': 1}}, 'modelName': 'Basic', 'cards': [1682243862284]}, {'noteId': 1682874873450, 'tags': [], 'fields': {'Front': {'value': 'commencer', 'order': 0}, 'Back': {'value': '[koh-mon-say] to begin, to start', 'order': 1}}, 'modelName': 'Basic', 'cards': [1682874873451]}, {'noteId': 1683013596943, 'tags': [], 'fields': {'Front': {'value': 'to lose, misplace', 'order': 0}, 'Back': {'value': 'égarer&nbsp;(ay-ga-ray) (verb)', 'order': 1}}, 'modelName': 'Basic', 'cards': [1683013596943]}, {'noteId': 1683013625074, 'tags': [], 'fields': {'Front': {'value': 'to begin, to start', 'order': 0}, 'Back': {'value': 'commencer [koh-mon-say]', 'order': 1}}, 'modelName': 'Basic', 'cards': [1683013625074]}, {'noteId': 1683013640553, 'tags': [], 'fields': {'Front': {'value': 'picturesque, scenic&nbsp;', 'order': 0}, 'Back': {'value': 'pittoresque (pee-toh-resk) - (adjective)', 'order': 1}}, 'modelName': 'Basic', 'cards': [1683013640553]}, {'noteId': 1683013659665, 'tags': [], 'fields': {'Front': {'value': 'lodging, accommodation', 'order': 0}, 'Back': {'value': 'hébergement&nbsp;(ay-berj-mahn) -&nbsp; (noun)', 'order': 1}}, 'modelName': 'Basic', 'cards': [1683013659665]}, {'noteId': 1683013673928, 'tags': [], 'fields': {'Front': {'value': 'to rob, ransack&nbsp;', 'order': 0}, 'Back': {'value': 'dévaliser (day-va-lee-zay) - (verb)', 'order': 1}}, 'modelName': 'Basic', 'cards': [1683013673928]}, {'noteId': 1683013687648, 'tags': [], 'fields': {'Front': {'value': 'peaceful, tranquil&nbsp;', 'order': 0}, 'Back': {'value': 'paisible&nbsp; (pay-seebl) - (adjective)', 'order': 1}}, 'modelName': 'Basic', 'cards': [1683013687649]}, {'noteId': 1683013703651, 'tags': [], 'fields': {'Front': {'value': 'change of scenery, culture shock&nbsp;', 'order': 0}, 'Back': {'value': 'dépaysement (day-pay-zay-mahn) - (noun)', 'order': 1}}, 'modelName': 'Basic', 'cards': [1683013703651]}, {'noteId': 1683013727777, 'tags': [], 'fields': {'Front': {'value': 'adjoining room&nbsp;', 'order': 0}, 'Back': {'value': 'chambre communicante (shahm-br koh-mew-nee-kahnt) - (noun)', 'order': 1}}, 'modelName': 'Basic', 'cards': [1683013727777]}, {'noteId': 1683013746937, 'tags': [], 'fields': {'Front': {'value': 'itinerary, route&nbsp;', 'order': 0}, 'Back': {'value': 'itinéraire (ee-tee-nay-rer) - (noun)', 'order': 1}}, 'modelName': 'Basic', 'cards': [1683013746938]}, {'noteId': 1683013771728, 'tags': [], 'fields': {'Front': {'value': 'to upgrade&nbsp;', 'order': 0}, 'Back': {'value': 'surclasser (suur-klass-ay) - (verb)', 'order': 1}}, 'modelName': 'Basic', 'cards': [1683013771728]}, {'noteId': 1683013783957, 'tags': [], 'fields': {'Front': {'value': 'stopover&nbsp;', 'order': 0}, 'Back': {'value': 'escale&nbsp;(eh-skal) - (noun)', 'order': 1}}, 'modelName': 'Basic', 'cards': [1683013783957]}, {'noteId': 1683013805379, 'tags': [], 'fields': {'Front': {'value': '[A] Drink (noun)', 'order': 0}, 'Back': {'value': 'La boisson (feminine noun) -&nbsp;<br>&nbsp;Pronunciation: [la bwah-sohn]', 'order': 1}}, 'modelName': 'Basic', 'cards': [1683013805380]}, {'noteId': 1683013815194, 'tags': [], 'fields': {'Front': {'value': 'To reheat', 'order': 0}, 'Back': {'value': 'Réchauffer&nbsp;(verb) -&nbsp;<br>&nbsp;Pronunciation: [ray-sho-fay]', 'order': 1}}, 'modelName': 'Basic', 'cards': [1683013815194]}, {'noteId': 1683013842966, 'tags': [], 'fields': {'Front': {'value': '[To] Takeaway (phrase)', 'order': 0}, 'Back': {'value': 'À emporter (phrase) -&nbsp;<br>Pronunciation: [a ahm-por-tey]', 'order': 1}}, 'modelName': 'Basic', 'cards': [1683013842966]}, {'noteId': 1683013854021, 'tags': [], 'fields': {'Front': {'value': 'Daily special', 'order': 0}, 'Back': {'value': 'Le plat du jour&nbsp;(masculine noun) -&nbsp;<br>&nbsp;Pronunciation: [le pla dyu zhoor]', 'order': 1}}, 'modelName': 'Basic', 'cards': [1683013854021]}, {'noteId': 1683013873372, 'tags': [], 'fields': {'Front': {'value': '[A/the] Tip', 'order': 0}, 'Back': {'value': 'La pourboire&nbsp;(masculine noun) -&nbsp;<br>Pronunciation: [la poor-bwar]', 'order': 1}}, 'modelName': 'Basic', 'cards': [1683013873372]}, {'noteId': 1683013889931, 'tags': [], 'fields': {'Front': {'value': 'To clear (the table)', 'order': 0}, 'Back': {'value': 'Débarrasser (verb) -&nbsp;<br>Pronunciation: [day-ba-ra-sey]', 'order': 1}}, 'modelName': 'Basic', 'cards': [1683013889931]}, {'noteId': 1683013901446, 'tags': [], 'fields': {'Front': {'value': 'Tasty', 'order': 0}, 'Back': {'value': 'Savoureux / Savoureuse&nbsp;(adjective) -&nbsp;<br>Pronunciation: [sa-voo-reuh] / [sa-voo-reuz]', 'order': 1}}, 'modelName': 'Basic', 'cards': [1683013901446]}, {'noteId': 1683013917105, 'tags': [], 'fields': {'Front': {'value': 'Terrace&nbsp;', 'order': 0}, 'Back': {'value': 'La terrasse&nbsp;(feminine noun) - Pronunciation: [la te-ras]', 'order': 1}}, 'modelName': 'Basic', 'cards': [1683013917105]}, {'noteId': 1683013936585, 'tags': [], 'fields': {'Front': {'value': 'A Reservation', 'order': 0}, 'Back': {'value': 'Réservation (feminine noun) -&nbsp;<br>Pronunciation: [ray-zehr-va-syon]', 'order': 1}}, 'modelName': 'Basic', 'cards': [1683013936586]}, {'noteId': 1683013949571, 'tags': [], 'fields': {'Front': {'value': 'Cutlery', 'order': 0}, 'Back': {'value': 'Les couverts (masculine plural noun) -&nbsp;<br>Pronunciation: [lay koo-vehr]', 'order': 1}}, 'modelName': 'Basic', 'cards': [1683013949571]}, {'noteId': 1683013960652, 'tags': [], 'fields': {'Front': {'value': 'Spicy&nbsp;', 'order': 0}, 'Back': {'value': 'Épicé&nbsp;(adjective) - Pronunciation: [ay-pee-say]', 'order': 1}}, 'modelName': 'Basic', 'cards': [1683013960652]}, {'noteId': 1683013975183, 'tags': [], 'fields': {'Front': {'value': 'The menu&nbsp;', 'order': 0}, 'Back': {'value': 'La carte&nbsp;(feminine noun) - Pronunciation: [la kart]', 'order': 1}}, 'modelName': 'Basic', 'cards': [1683013975183]}, {'noteId': 1683013988246, 'tags': [], 'fields': {'Front': {'value': 'Waitress / Waiter', 'order': 0}, 'Back': {'value': 'La serveuse / Le serveur (feminine/masculine noun) -&nbsp;<br>Pronunciation: [la ser-veuz] / [le ser-veur]', 'order': 1}}, 'modelName': 'Basic', 'cards': [1683013988246]}, {'noteId': 1683013998682, 'tags': [], 'fields': {'Front': {'value': 'The bill', 'order': 0}, 'Back': {'value': \"L'addition (feminine noun) -&nbsp;<br>Pronunciation: [la-dee-syon]\", 'order': 1}}, 'modelName': 'Basic', 'cards': [1683013998682]}, {'noteId': 1683014008009, 'tags': [], 'fields': {'Front': {'value': 'To order', 'order': 0}, 'Back': {'value': 'Commander&nbsp;(verb) -&nbsp;<br>Pronunciation: [koh-mahn-day]', 'order': 1}}, 'modelName': 'Basic', 'cards': [1683014008010]}, {'noteId': 1683014034802, 'tags': [], 'fields': {'Front': {'value': 'relaxation', 'order': 0}, 'Back': {'value': 'Détente&nbsp;(day-tahnt) -&nbsp;', 'order': 1}}, 'modelName': 'Basic', 'cards': [1683014034802]}, {'noteId': 1683014049746, 'tags': [], 'fields': {'Front': {'value': 'exciting, thrilling', 'order': 0}, 'Back': {'value': 'Passionnant (pah-see-ohn-ahnt) -&nbsp;', 'order': 1}}, 'modelName': 'Basic', 'cards': [1683014049746]}, {'noteId': 1683014059039, 'tags': [], 'fields': {'Front': {'value': 'outdoors, open-air', 'order': 0}, 'Back': {'value': 'En plein air&nbsp;(ahn pla-nayr) -&nbsp;', 'order': 1}}, 'modelName': 'Basic', 'cards': [1683014059039]}, {'noteId': 1683014076076, 'tags': [], 'fields': {'Front': {'value': 'concert', 'order': 0}, 'Back': {'value': 'Concert&nbsp;(coh-sair) -&nbsp;', 'order': 1}}, 'modelName': 'Basic', 'cards': [1683014076076]}, {'noteId': 1683014094011, 'tags': [], 'fields': {'Front': {'value': 'to paint', 'order': 0}, 'Back': {'value': 'Peindre&nbsp;(pahn-dr) -&nbsp;', 'order': 1}}, 'modelName': 'Basic', 'cards': [1683014094012]}, {'noteId': 1683014105712, 'tags': [], 'fields': {'Front': {'value': 'chess', 'order': 0}, 'Back': {'value': 'Échecs&nbsp;(ay-shex) -&nbsp;', 'order': 1}}, 'modelName': 'Basic', 'cards': [1683014105712]}, {'noteId': 1683014119351, 'tags': [], 'fields': {'Front': {'value': 'to spend time', 'order': 0}, 'Back': {'value': 'Passer du temps (pah-say doo tah) -&nbsp;', 'order': 1}}, 'modelName': 'Basic', 'cards': [1683014119351]}, {'noteId': 1683014130539, 'tags': [], 'fields': {'Front': {'value': 'to take a walk', 'order': 0}, 'Back': {'value': 'Se promener&nbsp;(suh proh-men-ay) -&nbsp;', 'order': 1}}, 'modelName': 'Basic', 'cards': [1683014130540]}, {'noteId': 1683014141353, 'tags': [], 'fields': {'Front': {'value': 'to ride a bike', 'order': 0}, 'Back': {'value': 'Faire du vélo&nbsp;(fayr doo vay-lo) -&nbsp;', 'order': 1}}, 'modelName': 'Basic', 'cards': [1683014141353]}, {'noteId': 1683014158908, 'tags': [], 'fields': {'Front': {'value': 'to rest', 'order': 0}, 'Back': {'value': 'se reposer (suh ruh-poh-ZAY) -&nbsp;', 'order': 1}}, 'modelName': 'Basic', 'cards': [1683014158908]}, {'noteId': 1683014169945, 'tags': [], 'fields': {'Front': {'value': 'well-being', 'order': 0}, 'Back': {'value': 'le bien-être (luh bya(n)-ETR) -&nbsp;', 'order': 1}}, 'modelName': 'Basic', 'cards': [1683014169945]}, {'noteId': 1683014179048, 'tags': [], 'fields': {'Front': {'value': 'to sleep', 'order': 0}, 'Back': {'value': 'dormir&nbsp;(door-MEER) -&nbsp;', 'order': 1}}, 'modelName': 'Basic', 'cards': [1683014179048]}, {'noteId': 1683014196401, 'tags': [], 'fields': {'Front': {'value': 'The sleep', 'order': 0}, 'Back': {'value': 'le sommeil&nbsp;(luh soh-MAY) -&nbsp;', 'order': 1}}, 'modelName': 'Basic', 'cards': [1683014196402]}, {'noteId': 1683014211523, 'tags': [], 'fields': {'Front': {'value': 'to eat a balanced diet', 'order': 0}, 'Back': {'value': 'manger équilibré&nbsp; (mahn-ZHAY ay-kee-lee-BRAY) -&nbsp;', 'order': 1}}, 'modelName': 'Basic', 'cards': [1683014211523]}, {'noteId': 1683014220381, 'tags': [], 'fields': {'Front': {'value': 'diet', 'order': 0}, 'Back': {'value': 'le régime (luh ray-ZHEEM) -&nbsp;', 'order': 1}}, 'modelName': 'Basic', 'cards': [1683014220381]}, {'noteId': 1683014231180, 'tags': [], 'fields': {'Front': {'value': 'to relax', 'order': 0}, 'Back': {'value': 'se détendre (suh day-TAH(N)D) -&nbsp;', 'order': 1}}, 'modelName': 'Basic', 'cards': [1683014231180]}, {'noteId': 1683014247558, 'tags': [], 'fields': {'Front': {'value': 'nutrition', 'order': 0}, 'Back': {'value': 'la nutrition&nbsp;(la new-tree-SYAW(N)) -&nbsp;', 'order': 1}}, 'modelName': 'Basic', 'cards': [1683014247558]}, {'noteId': 1683014258243, 'tags': [], 'fields': {'Front': {'value': 'to exercise', 'order': 0}, 'Back': {'value': \"s'exercer (suhg-zehr-SAY) -&nbsp;\", 'order': 1}}, 'modelName': 'Basic', 'cards': [1683014258243]}, {'noteId': 1683014269652, 'tags': [], 'fields': {'Front': {'value': 'health', 'order': 0}, 'Back': {'value': 'la santé&nbsp;(la sahn-TAY) -&nbsp;', 'order': 1}}, 'modelName': 'Basic', 'cards': [1683014269652]}, {'noteId': 1683014278841, 'tags': [], 'fields': {'Front': {'value': 'the accessory', 'order': 0}, 'Back': {'value': \"l'accessoire (lak-ses-WAHR) -&nbsp;\", 'order': 1}}, 'modelName': 'Basic', 'cards': [1683014278841]}, {'noteId': 1683014290494, 'tags': [], 'fields': {'Front': {'value': 'haute couture, high fashion, dressmaking', 'order': 0}, 'Back': {'value': 'la couture (la koo-TYUR) -&nbsp;', 'order': 1}}, 'modelName': 'Basic', 'cards': [1683014290494]}, {'noteId': 1683014303806, 'tags': [], 'fields': {'Front': {'value': 'ready-to-wear clothing', 'order': 0}, 'Back': {'value': 'le prêt-à-porter (luh pret-a-por-TAY) -&nbsp;', 'order': 1}}, 'modelName': 'Basic', 'cards': [1683014303806]}, {'noteId': 1683014315446, 'tags': [], 'fields': {'Front': {'value': 'the shop window, display window', 'order': 0}, 'Back': {'value': 'la vitrine&nbsp;(la vee-TREEN) -&nbsp;', 'order': 1}}, 'modelName': 'Basic', 'cards': [1683014315446]}, {'noteId': 1683014325016, 'tags': [], 'fields': {'Front': {'value': 'the mannequin, model', 'order': 0}, 'Back': {'value': 'la mannequin&nbsp;(la man-uh-KAN) -&nbsp;', 'order': 1}}, 'modelName': 'Basic', 'cards': [1683014325016]}, {'noteId': 1683014334739, 'tags': [], 'fields': {'Front': {'value': 'the fitting room', 'order': 0}, 'Back': {'value': \"la cabine d'essayage (la ka-been des-sa-YAZH) -&nbsp;\", 'order': 1}}, 'modelName': 'Basic', 'cards': [1683014334739]}, {'noteId': 1683014351695, 'tags': [], 'fields': {'Front': {'value': 'the size (clothing)', 'order': 0}, 'Back': {'value': 'la taille (la tie) -&nbsp;', 'order': 1}}, 'modelName': 'Basic', 'cards': [1683014351695]}, {'noteId': 1683014360467, 'tags': [], 'fields': {'Front': {'value': 'the sales, discounts', 'order': 0}, 'Back': {'value': 'les soldes (lay solde) -&nbsp;', 'order': 1}}, 'modelName': 'Basic', 'cards': [1683014360467]}, {'noteId': 1683014368258, 'tags': [], 'fields': {'Front': {'value': 'the dress', 'order': 0}, 'Back': {'value': 'la robe&nbsp;(la rob) -&nbsp;', 'order': 1}}, 'modelName': 'Basic', 'cards': [1683014368258]}, {'noteId': 1683014378322, 'tags': [], 'fields': {'Front': {'value': 'the shirt', 'order': 0}, 'Back': {'value': 'la chemise (la shuh-MEEZ) -&nbsp;', 'order': 1}}, 'modelName': 'Basic', 'cards': [1683014378322]}, {'noteId': 1683014393531, 'tags': [], 'fields': {'Front': {'value': 'the pants, trousers', 'order': 0}, 'Back': {'value': 'le pantalon (luh pa(n)-ta-LO(N)) -&nbsp;', 'order': 1}}, 'modelName': 'Basic', 'cards': [1683014393531]}, {'noteId': 1683014403107, 'tags': [], 'fields': {'Front': {'value': 'the shoe', 'order': 0}, 'Back': {'value': 'la chaussure (la sho-SYUR) -&nbsp;', 'order': 1}}, 'modelName': 'Basic', 'cards': [1683014403107]}, {'noteId': 1683014411613, 'tags': [], 'fields': {'Front': {'value': 'the store', 'order': 0}, 'Back': {'value': 'le magasin (luh ma-ga-ZA(N)) -&nbsp;', 'order': 1}}, 'modelName': 'Basic', 'cards': [1683014411613]}, {'noteId': 1683014420990, 'tags': [], 'fields': {'Front': {'value': 'the boutique, shop', 'order': 0}, 'Back': {'value': 'la boutique&nbsp;(la boo-TEAK) -&nbsp;', 'order': 1}}, 'modelName': 'Basic', 'cards': [1683014420990]}, {'noteId': 1683014433545, 'tags': [], 'fields': {'Front': {'value': 'the clothes', 'order': 0}, 'Back': {'value': 'les vêtements (lay vet-MAH(N)) -&nbsp;', 'order': 1}}, 'modelName': 'Basic', 'cards': [1683014433545]}, {'noteId': 1683014442774, 'tags': [], 'fields': {'Front': {'value': 'the doctor', 'order': 0}, 'Back': {'value': 'le médecin&nbsp; (luh meh-DEH(sa~)-&nbsp;', 'order': 1}}, 'modelName': 'Basic', 'cards': [1683014442774]}, {'noteId': 1683014453767, 'tags': [], 'fields': {'Front': {'value': 'the engineer', 'order': 0}, 'Back': {'value': \"l'ingénieur (lah(n)-zheh-NYUR) -&nbsp;\", 'order': 1}}, 'modelName': 'Basic', 'cards': [1683014453767]}, {'noteId': 1683014461914, 'tags': [], 'fields': {'Front': {'value': 'the meeting', 'order': 0}, 'Back': {'value': 'la réunion&nbsp;(la reh-yoo-NYOH(N)) -&nbsp;', 'order': 1}}, 'modelName': 'Basic', 'cards': [1683014461914]}, {'noteId': 1683014471151, 'tags': [], 'fields': {'Front': {'value': 'the salary, wage', 'order': 0}, 'Back': {'value': 'le salaire&nbsp;(luh sa-LAHR) -&nbsp;', 'order': 1}}, 'modelName': 'Basic', 'cards': [1683014471151]}, {'noteId': 1683014480274, 'tags': [], 'fields': {'Front': {'value': 'the job interview', 'order': 0}, 'Back': {'value': \"l'entretien d'embauche&nbsp;(lah(n)-tre-tya(n) dah(n)-BOHSH) -&nbsp;\", 'order': 1}}, 'modelName': 'Basic', 'cards': [1683014480274]}, {'noteId': 1683014488733, 'tags': [], 'fields': {'Front': {'value': 'the colleague, coworker', 'order': 0}, 'Back': {'value': 'le collègue (luh koh-leg) -&nbsp;', 'order': 1}}, 'modelName': 'Basic', 'cards': [1683014488733]}, {'noteId': 1683014496024, 'tags': [], 'fields': {'Front': {'value': 'the boss', 'order': 0}, 'Back': {'value': 'le patron / la patronne&nbsp;(luh pa-TROH(N) / la pa-TROHN) -&nbsp;', 'order': 1}}, 'modelName': 'Basic', 'cards': [1683014496024]}, {'noteId': 1683014505261, 'tags': [], 'fields': {'Front': {'value': 'the office', 'order': 0}, 'Back': {'value': 'le bureau (luh byoor-OH) -&nbsp;', 'order': 1}}, 'modelName': 'Basic', 'cards': [1683014505261]}, {'noteId': 1683014516351, 'tags': [], 'fields': {'Front': {'value': 'the job, employment', 'order': 0}, 'Back': {'value': \"l'emploi (lah(n)-plwa) -&nbsp;\", 'order': 1}}, 'modelName': 'Basic', 'cards': [1683014516351]}, {'noteId': 1683014528574, 'tags': [], 'fields': {'Front': {'value': 'the work, job', 'order': 0}, 'Back': {'value': 'le travail&nbsp;(luh tra-VIE) -&nbsp;', 'order': 1}}, 'modelName': 'Basic', 'cards': [1683014528574]}, {'noteId': 1683014540400, 'tags': [], 'fields': {'Front': {'value': 'to miss (a train, bus, etc.)', 'order': 0}, 'Back': {'value': 'rater (<i>rah-TAY</i>) -&nbsp;', 'order': 1}}, 'modelName': 'Basic', 'cards': [1683014540400]}, {'noteId': 1683014551217, 'tags': [], 'fields': {'Front': {'value': 'the rental (of a car, bike, etc.)', 'order': 0}, 'Back': {'value': 'la location (<i>la loh-kay-SYOH(N)</i>) -&nbsp;', 'order': 1}}, 'modelName': 'Basic', 'cards': [1683014551217]}, {'noteId': 1683014560374, 'tags': [], 'fields': {'Front': {'value': 'the schedule, timetable', 'order': 0}, 'Back': {'value': \"l'horaire (<i>leuh-oh-REHR</i>) -&nbsp;\", 'order': 1}}, 'modelName': 'Basic', 'cards': [1683014560374]}, {'noteId': 1683014572712, 'tags': [], 'fields': {'Front': {'value': 'crowded, packed', 'order': 0}, 'Back': {'value': 'bondé(e) (<i>bo(n)-DAY</i>) -&nbsp; (adjective)', 'order': 1}}, 'modelName': 'Basic', 'cards': [1683014572712]}, {'noteId': 1683014599122, 'tags': [], 'fields': {'Front': {'value': 'customs (at an airport or border)', 'order': 0}, 'Back': {'value': 'la douane (<i>la doo-AHN</i>) -&nbsp;', 'order': 1}}, 'modelName': 'Basic', 'cards': [1683014599123]}, {'noteId': 1683014609491, 'tags': [], 'fields': {'Front': {'value': 'the connection, transfer (between trains, flights, etc.)', 'order': 0}, 'Back': {'value': 'la correspondance&nbsp;(<i>la koh-reh-spo(n)-DAHNS</i>) -&nbsp;', 'order': 1}}, 'modelName': 'Basic', 'cards': [1683014609491]}, {'noteId': 1683014626277, 'tags': [], 'fields': {'Front': {'value': 'the taxi', 'order': 0}, 'Back': {'value': 'le taxi (<i>luh tak-SEE</i>) -&nbsp;', 'order': 1}}, 'modelName': 'Basic', 'cards': [1683014626277]}, {'noteId': 1683014638228, 'tags': [], 'fields': {'Front': {'value': 'to disembark, get off (a plane, ship, etc.)', 'order': 0}, 'Back': {'value': 'débarquer&nbsp;(<i>day-bar-KAY</i>) -&nbsp;', 'order': 1}}, 'modelName': 'Basic', 'cards': [1683014638228]}, {'noteId': 1683014649062, 'tags': [], 'fields': {'Front': {'value': 'to embark, board (a plane, ship, etc.)', 'order': 0}, 'Back': {'value': 'embarquer (<i>ahm-bar-KAY</i>) -&nbsp;', 'order': 1}}, 'modelName': 'Basic', 'cards': [1683014649062]}, {'noteId': 1683014657978, 'tags': [], 'fields': {'Front': {'value': 'the suitcase', 'order': 0}, 'Back': {'value': '<div>La Valise&nbsp;<i>(la va-LEEZ)</i> -&nbsp;<br></div>', 'order': 1}}, 'modelName': 'Basic', 'cards': [1683014657978]}, {'noteId': 1683462787891, 'tags': [], 'fields': {'Front': {'value': 'Participe passé de \"avoir\"', 'order': 0}, 'Back': {'value': 'eu', 'order': 1}}, 'modelName': 'Basic', 'cards': [1683462787891]}, {'noteId': 1683462820749, 'tags': [], 'fields': {'Front': {'value': 'Participe passé de \"<b><span style=\"font-weight: 400;\">être</span></b>\"', 'order': 0}, 'Back': {'value': '<b><span style=\"font-weight: 400;\">été</span></b>', 'order': 1}}, 'modelName': 'Basic', 'cards': [1683462820750]}, {'noteId': 1683462828201, 'tags': [], 'fields': {'Front': {'value': 'Participe passé de \"faire\"', 'order': 0}, 'Back': {'value': 'fait', 'order': 1}}, 'modelName': 'Basic', 'cards': [1683462828202]}, {'noteId': 1683462836485, 'tags': [], 'fields': {'Front': {'value': 'Participe passé de \"pouvoir\"', 'order': 0}, 'Back': {'value': 'pu', 'order': 1}}, 'modelName': 'Basic', 'cards': [1683462836485]}, {'noteId': 1683462846541, 'tags': [], 'fields': {'Front': {'value': 'Participe passé de \"vouloir\"', 'order': 0}, 'Back': {'value': 'voulu', 'order': 1}}, 'modelName': 'Basic', 'cards': [1683462846541]}, {'noteId': 1683462853867, 'tags': [], 'fields': {'Front': {'value': 'Participe passé de \"savoir\"', 'order': 0}, 'Back': {'value': 'su', 'order': 1}}, 'modelName': 'Basic', 'cards': [1683462853868]}, {'noteId': 1683462884540, 'tags': [], 'fields': {'Front': {'value': 'Participe passé de \"voir\"', 'order': 0}, 'Back': {'value': 'vu', 'order': 1}}, 'modelName': 'Basic', 'cards': [1683462884541]}, {'noteId': 1683462891138, 'tags': [], 'fields': {'Front': {'value': 'Participe passé de \"croire\"', 'order': 0}, 'Back': {'value': 'cru', 'order': 1}}, 'modelName': 'Basic', 'cards': [1683462891138]}, {'noteId': 1683462898719, 'tags': [], 'fields': {'Front': {'value': 'Participe passé de \"boire\"', 'order': 0}, 'Back': {'value': 'bu', 'order': 1}}, 'modelName': 'Basic', 'cards': [1683462898719]}, {'noteId': 1683462913469, 'tags': [], 'fields': {'Front': {'value': 'Participe passé de \"devoir\"', 'order': 0}, 'Back': {'value': 'dû', 'order': 1}}, 'modelName': 'Basic', 'cards': [1683462913469]}, {'noteId': 1683462962552, 'tags': [], 'fields': {'Front': {'value': 'Participe passé de \"recevoir\"', 'order': 0}, 'Back': {'value': 'reçu', 'order': 1}}, 'modelName': 'Basic', 'cards': [1683462962552]}, {'noteId': 1683462995511, 'tags': [], 'fields': {'Front': {'value': 'Participe passé de \"connaître\"', 'order': 0}, 'Back': {'value': 'connu', 'order': 1}}, 'modelName': 'Basic', 'cards': [1683462995511]}, {'noteId': 1683463002598, 'tags': [], 'fields': {'Front': {'value': 'Participe passé de \"lire\"', 'order': 0}, 'Back': {'value': 'lu', 'order': 1}}, 'modelName': 'Basic', 'cards': [1683463002598]}, {'noteId': 1683463018896, 'tags': [], 'fields': {'Front': {'value': 'Participe passé de \"vivre\"', 'order': 0}, 'Back': {'value': 'v<b><span style=\"font-weight: 400;\">é</span></b>cu', 'order': 1}}, 'modelName': 'Basic', 'cards': [1683463018896]}, {'noteId': 1683463025546, 'tags': [], 'fields': {'Front': {'value': 'Participe passé de \"plaire\"', 'order': 0}, 'Back': {'value': 'plu', 'order': 1}}, 'modelName': 'Basic', 'cards': [1683463025547]}, {'noteId': 1683463032264, 'tags': [], 'fields': {'Front': {'value': 'Participe passé de \"venir\"', 'order': 0}, 'Back': {'value': 'venu', 'order': 1}}, 'modelName': 'Basic', 'cards': [1683463032265]}, {'noteId': 1683463038987, 'tags': [], 'fields': {'Front': {'value': 'Participe passé de \"tenir\"', 'order': 0}, 'Back': {'value': 'tenu', 'order': 1}}, 'modelName': 'Basic', 'cards': [1683463038987]}, {'noteId': 1683463048591, 'tags': [], 'fields': {'Front': {'value': 'Participe passé de \"courir\"', 'order': 0}, 'Back': {'value': 'couru', 'order': 1}}, 'modelName': 'Basic', 'cards': [1683463048591]}, {'noteId': 1683463055667, 'tags': [], 'fields': {'Front': {'value': 'Participe passé de \"prendre\"', 'order': 0}, 'Back': {'value': 'pris', 'order': 1}}, 'modelName': 'Basic', 'cards': [1683463055667]}, {'noteId': 1683463062390, 'tags': [], 'fields': {'Front': {'value': 'Participe passé de \"comprendre\"', 'order': 0}, 'Back': {'value': 'compris', 'order': 1}}, 'modelName': 'Basic', 'cards': [1683463062390]}, {'noteId': 1683463074269, 'tags': [], 'fields': {'Front': {'value': 'Participe passé de \"apprendre\"', 'order': 0}, 'Back': {'value': 'appris', 'order': 1}}, 'modelName': 'Basic', 'cards': [1683463074269]}, {'noteId': 1683463082203, 'tags': [], 'fields': {'Front': {'value': 'Participe passé de \"mettre\"', 'order': 0}, 'Back': {'value': 'mis', 'order': 1}}, 'modelName': 'Basic', 'cards': [1683463082203]}, {'noteId': 1683463109452, 'tags': [], 'fields': {'Front': {'value': 'Participe passé de \"écrire\"', 'order': 0}, 'Back': {'value': 'écrit', 'order': 1}}, 'modelName': 'Basic', 'cards': [1683463109453]}, {'noteId': 1683463119648, 'tags': [], 'fields': {'Front': {'value': 'Participe passé de \"dire\"', 'order': 0}, 'Back': {'value': 'dit', 'order': 1}}, 'modelName': 'Basic', 'cards': [1683463119648]}, {'noteId': 1683463130842, 'tags': [], 'fields': {'Front': {'value': 'Participe passé de \"ouvrir\"', 'order': 0}, 'Back': {'value': 'ouvert', 'order': 1}}, 'modelName': 'Basic', 'cards': [1683463130842]}, {'noteId': 1683463137131, 'tags': [], 'fields': {'Front': {'value': 'Participe passé de \"offrir\"', 'order': 0}, 'Back': {'value': 'offert', 'order': 1}}, 'modelName': 'Basic', 'cards': [1683463137131]}, {'noteId': 1683463148255, 'tags': [], 'fields': {'Front': {'value': 'Participe passé de \"mourir\"', 'order': 0}, 'Back': {'value': 'mort', 'order': 1}}, 'modelName': 'Basic', 'cards': [1683463148255]}, {'noteId': 1683463166933, 'tags': [], 'fields': {'Front': {'value': 'Participe passé de \"craindre\"', 'order': 0}, 'Back': {'value': 'craint', 'order': 1}}, 'modelName': 'Basic', 'cards': [1683463166933]}, {'noteId': 1683463176692, 'tags': [], 'fields': {'Front': {'value': 'Participe passé de \"peindre\"', 'order': 0}, 'Back': {'value': 'peint', 'order': 1}}, 'modelName': 'Basic', 'cards': [1683463176693]}, {'noteId': 1683463182670, 'tags': [], 'fields': {'Front': {'value': 'Participe passé de \"joindre\"', 'order': 0}, 'Back': {'value': 'joint', 'order': 1}}, 'modelName': 'Basic', 'cards': [1683463182671]}, {'noteId': 1683463193048, 'tags': [], 'fields': {'Front': {'value': 'Participe passé de \"<b><span style=\"font-weight: 400;\">naître</span></b>\"', 'order': 0}, 'Back': {'value': '<b><span style=\"font-weight: 400;\">né</span></b>', 'order': 1}}, 'modelName': 'Basic', 'cards': [1683463193048]}]\n"
     ]
    }
   ],
   "source": [
    "# Function to get all cards in a specified deck\n",
    "def get_all_cards_in_deck(deck_name):\n",
    "    # Find the note IDs that match the query for the specific deck\n",
    "    response = invoke('findNotes', query=f'deck:\"{deck_name}\"')\n",
    "    note_ids = response.get('result')\n",
    "\n",
    "    if not note_ids:\n",
    "        return None\n",
    "\n",
    "    # Fetch detailed information about these notes\n",
    "    notes_info = invoke('notesInfo', notes=note_ids)\n",
    "    return notes_info.get('result')\n",
    "\n",
    "# Example usage\n",
    "result = get_all_cards_in_deck('French Vocab')\n",
    "print(result)"
   ]
  },
  {
   "cell_type": "code",
   "execution_count": 46,
   "metadata": {},
   "outputs": [
    {
     "data": {
      "text/plain": [
       "{'noteId': 1683013640553,\n",
       " 'tags': [],\n",
       " 'fields': {'Front': {'value': 'picturesque, scenic&nbsp;', 'order': 0},\n",
       "  'Back': {'value': 'pittoresque (pee-toh-resk) - (adjective)', 'order': 1}},\n",
       " 'modelName': 'Basic',\n",
       " 'cards': [1683013640553]}"
      ]
     },
     "execution_count": 46,
     "metadata": {},
     "output_type": "execute_result"
    }
   ],
   "source": [
    "result[100]"
   ]
  },
  {
   "cell_type": "code",
   "execution_count": 47,
   "metadata": {},
   "outputs": [
    {
     "data": {
      "text/plain": [
       "{'noteId': 1683013659665,\n",
       " 'tags': [],\n",
       " 'fields': {'Front': {'value': 'lodging, accommodation', 'order': 0},\n",
       "  'Back': {'value': 'hébergement&nbsp;(ay-berj-mahn) -&nbsp; (noun)',\n",
       "   'order': 1}},\n",
       " 'modelName': 'Basic',\n",
       " 'cards': [1683013659665]}"
      ]
     },
     "execution_count": 47,
     "metadata": {},
     "output_type": "execute_result"
    }
   ],
   "source": [
    "result[101]"
   ]
  },
  {
   "cell_type": "code",
   "execution_count": null,
   "metadata": {},
   "outputs": [],
   "source": [
    "# Function to add a new card to an existing deck\n",
    "def add_card_to_deck(deck_name, front, back, pronunciation):\n",
    "    \n",
    "    back_formatted = f\"{back}&nbsp;({pronunciation}) -&nbsp; (noun)\"\n",
    "    \n",
    "    invoke(\n",
    "        'addNote',\n",
    "        note={\n",
    "            'deckName': deck_name,\n",
    "            'modelName': 'Basic',\n",
    "            'fields': {\n",
    "                'Front': front,\n",
    "                'Back': back_formatted\n",
    "            }\n",
    "        }\n",
    "    )"
   ]
  },
  {
   "cell_type": "code",
   "execution_count": 48,
   "metadata": {},
   "outputs": [],
   "source": [
    "# Function to add a new card to an existing deck\n",
    "def add_card_to_deck(deck_name, front, back, pronunciation):\n",
    "    # HTML formatting for the Front field\n",
    "    front_formatted = f\"\"\"\n",
    "    <div style=\"font-family: Arial; font-size: 20px; text-align: center;\">\n",
    "        <strong>{front}</strong>\n",
    "    </div>\n",
    "    \"\"\"\n",
    "    \n",
    "    # HTML formatting for the Back field\n",
    "    back_formatted = f\"\"\"\n",
    "    <div style=\"font-family: Arial; font-size: 18px;\">\n",
    "        <strong>Translation:</strong> {back}\n",
    "        <hr>\n",
    "        <strong>Pronunciation:</strong> <span style=\"color: blue;\">{pronunciation}</span>\n",
    "        <hr>\n",
    "        <em style=\"font-size: 14px;\">(noun)</em>\n",
    "    </div>\n",
    "    \"\"\"\n",
    "    \n",
    "    invoke(\n",
    "        'addNote',\n",
    "        note={\n",
    "            'deckName': deck_name,\n",
    "            'modelName': 'Basic',\n",
    "            'fields': {\n",
    "                'Front': front_formatted,\n",
    "                'Back': back_formatted\n",
    "            }\n",
    "        }\n",
    "    )\n",
    "\n",
    "# Example usage\n",
    "add_card_to_deck(\"Country Capitals\", \"lodging, accommodation\", \"hébergement\", \"ay-berj-mahn\")"
   ]
  }
 ],
 "metadata": {
  "kernelspec": {
   "display_name": "Python 3",
   "language": "python",
   "name": "python3"
  },
  "language_info": {
   "codemirror_mode": {
    "name": "ipython",
    "version": 3
   },
   "file_extension": ".py",
   "mimetype": "text/x-python",
   "name": "python",
   "nbconvert_exporter": "python",
   "pygments_lexer": "ipython3",
   "version": "3.10.11"
  }
 },
 "nbformat": 4,
 "nbformat_minor": 2
}
